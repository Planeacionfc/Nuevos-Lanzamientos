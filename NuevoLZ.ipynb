{
 "cells": [
  {
   "cell_type": "code",
   "execution_count": 6,
   "metadata": {},
   "outputs": [],
   "source": [
    "import os\n",
    "import pandas as pd\n",
    "from sap_library.sap_scripting import Sap, Transaction, DatabaseProcessing, TransactionThread, Utils\n"
   ]
  },
  {
   "cell_type": "code",
   "execution_count": 19,
   "metadata": {},
   "outputs": [],
   "source": [
    "\n",
    "\n",
    "\n",
    "USER = os.getenv('DANIELA').split(\",\")\n",
    "sap_instance= Sap(USER[0],USER[1]) \n",
    "\n",
    "zpp93=Transaction(sap_instance.get_session(),\"zpp93\" ) \n",
    "zpp93.open_transaction()\n",
    "\n",
    "materiales = ['1', '2', '3', '4']#Agregar los materiales\n",
    "\n",
    "df = pd.DataFrame({'Material': materiales})\n",
    "df['Material'].to_clipboard(index=False,header=False)\n",
    "zpp93.sap_session.findById(\"wnd[0]/usr/btn%_SO_MATNR_%_APP_%-VALU_PUSH\").press()\n",
    "zpp93.set_values_in_multiple_selection()\n",
    "\n",
    "\n",
    "zpp93.sap_session.findById(\"wnd[0]/tbar[1]/btn[8]\").press()#botón para ejecutar\\como no tengo materiales reales no puedo seguir con el botón de volver al inicio.\n",
    "\n",
    "\n",
    "\n"
   ]
  },
  {
   "cell_type": "code",
   "execution_count": 30,
   "metadata": {},
   "outputs": [
    {
     "ename": "KeyboardInterrupt",
     "evalue": "",
     "output_type": "error",
     "traceback": [
      "\u001b[1;31m---------------------------------------------------------------------------\u001b[0m",
      "\u001b[1;31mKeyboardInterrupt\u001b[0m                         Traceback (most recent call last)",
      "Cell \u001b[1;32mIn[30], line 12\u001b[0m\n\u001b[0;32m     10\u001b[0m df \u001b[38;5;241m=\u001b[39m pd\u001b[38;5;241m.\u001b[39mDataFrame({\u001b[38;5;124m'\u001b[39m\u001b[38;5;124mMaterial\u001b[39m\u001b[38;5;124m'\u001b[39m: materiales})\n\u001b[0;32m     11\u001b[0m df[\u001b[38;5;124m'\u001b[39m\u001b[38;5;124mMaterial\u001b[39m\u001b[38;5;124m'\u001b[39m]\u001b[38;5;241m.\u001b[39mto_clipboard(index\u001b[38;5;241m=\u001b[39m\u001b[38;5;28;01mFalse\u001b[39;00m,header\u001b[38;5;241m=\u001b[39m\u001b[38;5;28;01mFalse\u001b[39;00m)\n\u001b[1;32m---> 12\u001b[0m \u001b[43mzpp57\u001b[49m\u001b[38;5;241;43m.\u001b[39;49m\u001b[43msap_session\u001b[49m\u001b[38;5;241;43m.\u001b[39;49m\u001b[43mfindById\u001b[49m\u001b[43m(\u001b[49m\u001b[38;5;124;43m\"\u001b[39;49m\u001b[38;5;124;43mwnd[0]/usr/btn\u001b[39;49m\u001b[38;5;124;43m%\u001b[39;49m\u001b[38;5;124;43m_SP$00003_\u001b[39;49m\u001b[38;5;124;43m%\u001b[39;49m\u001b[38;5;124;43m_APP_\u001b[39;49m\u001b[38;5;124;43m%\u001b[39;49m\u001b[38;5;124;43m-VALU_PUSH\u001b[39;49m\u001b[38;5;124;43m\"\u001b[39;49m\u001b[43m)\u001b[49m\u001b[38;5;241;43m.\u001b[39;49m\u001b[43mpress\u001b[49m\u001b[43m(\u001b[49m\u001b[43m)\u001b[49m\n\u001b[0;32m     13\u001b[0m zpp57\u001b[38;5;241m.\u001b[39mset_values_in_multiple_selection()\n",
      "File \u001b[1;32m<COMObject <unknown>>:2\u001b[0m, in \u001b[0;36mpress\u001b[1;34m(self, *args)\u001b[0m\n",
      "\u001b[1;31mKeyboardInterrupt\u001b[0m: "
     ]
    }
   ],
   "source": [
    "USER = os.getenv('DANIELA').split(\",\")\n",
    "sap_instance= Sap(USER[0],USER[1]) \n",
    "\n",
    "\n",
    "zpp57=Transaction(sap_instance.get_session(),\"zpp57\" ) \n",
    "zpp57.open_transaction()\n",
    "\n",
    "materiales = ['1', '2', '3', '4']#Agregar los materiales\n",
    "\n",
    "df = pd.DataFrame({'Material': materiales})\n",
    "df['Material'].to_clipboard(index=False,header=False)\n",
    "zpp57.sap_session.findById(\"wnd[0]/usr/btn%_SP$00003_%_APP_%-VALU_PUSH\").press()\n",
    "zpp57.set_values_in_multiple_selection()\n",
    "\n",
    "#falta ejecutar y descargar hoja de cálculo\n",
    "\n"
   ]
  },
  {
   "cell_type": "code",
   "execution_count": 29,
   "metadata": {},
   "outputs": [],
   "source": [
    "USER = os.getenv('DANIELA').split(\",\")\n",
    "sap_instance= Sap(USER[0],USER[1]) \n",
    "\n",
    "\n",
    "MC9=Transaction(sap_instance.get_session(),\"MC.9\" ) \n",
    "MC9.open_transaction()\n",
    "\n",
    "materiales = ['1', '2', '3', '4']#Agregar los materiales\n",
    "\n",
    "df = pd.DataFrame({'Material': materiales})\n",
    "df['Material'].to_clipboard(index=False,header=False)\n",
    "MC9.sap_session.findById(\"wnd[0]/usr/btn%_SL_MATNR_%_APP_%-VALU_PUSH\").press()\n",
    "MC9.set_values_in_multiple_selection()\n",
    "\n",
    "MC9.sap_session.findById(\"wnd[0]/usr/ctxtSL_SPMON-LOW\").text = \"04.2024\"\n",
    "MC9.sap_session.findById(\"wnd[0]/usr/ctxtSL_SPMON-HIGH\").text = \"04.2024\"\n",
    "\n",
    "MC9.sap_session.findById(\"wnd[0]/usr/radML\").select()\n",
    "#falta el ejecutar\\quedo hasta el ledger mat.activo\n"
   ]
  },
  {
   "cell_type": "code",
   "execution_count": 34,
   "metadata": {},
   "outputs": [],
   "source": [
    "USER = os.getenv('DANIELA').split(\",\")\n",
    "sap_instance= Sap(USER[0],USER[1]) \n",
    "\n",
    "\n",
    "S_P99_41000062=Transaction(sap_instance.get_session(),\"S_P99_41000062\" ) \n",
    "S_P99_41000062.open_transaction()\n",
    "\n",
    "S_P99_41000062.sap_session.findById(\"wnd[0]/usr/ctxtP_WERKS\").text = \"1000\"#centro siempre 1000\n",
    "\n",
    "materiales = ['1', '2', '3', '4']#Agregar los materiales\n",
    "\n",
    "df = pd.DataFrame({'Material': materiales})\n",
    "df['Material'].to_clipboard(index=False,header=False)\n",
    "S_P99_41000062.sap_session.findById(\"wnd[0]/usr/btn%_R_MATNR_%_APP_%-VALU_PUSH\").press()\n",
    "S_P99_41000062.set_values_in_multiple_selection()\n",
    "\n",
    "S_P99_41000062.sap_session.findById(\"wnd[0]/usr/txtP_POPER\").text = \"4\"\n",
    "S_P99_41000062.sap_session.findById(\"wnd[0]/usr/txtP_BDATJ\").text = \"2024\"\n",
    "S_P99_41000062.sap_session.findById(\"wnd[0]/usr/ctxtP_VARIAN\").text = \"/COSTOS\"\n",
    "S_P99_41000062.sap_session.findById(\"wnd[0]/usr/ctxtP_VARIAN\").setFocus()\n",
    "S_P99_41000062.sap_session.findById(\"wnd[0]/usr/ctxtP_VARIAN\").caretPosition = 7\n",
    "S_P99_41000062.sap_session.findById(\"wnd[0]\").sendVKey(2)\n",
    "\n",
    "#FALTA EJECUTAR Y DESCARGA LA HOJA DE CÁLCULO"
   ]
  }
 ],
 "metadata": {
  "kernelspec": {
   "display_name": "venv",
   "language": "python",
   "name": "python3"
  },
  "language_info": {
   "codemirror_mode": {
    "name": "ipython",
    "version": 3
   },
   "file_extension": ".py",
   "mimetype": "text/x-python",
   "name": "python",
   "nbconvert_exporter": "python",
   "pygments_lexer": "ipython3",
   "version": "3.11.6"
  }
 },
 "nbformat": 4,
 "nbformat_minor": 2
}
